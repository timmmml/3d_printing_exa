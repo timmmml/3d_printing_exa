{
 "cells": [
  {
   "cell_type": "code",
   "execution_count": 3,
   "id": "initial_id",
   "metadata": {
    "collapsed": true,
    "ExecuteTime": {
     "end_time": "2024-01-25T13:36:58.935687200Z",
     "start_time": "2024-01-25T13:36:58.922819600Z"
    }
   },
   "outputs": [],
   "source": [
    "import numpy as np\n",
    "from scipy import interpolate\n",
    "from ProcessCommands import *"
   ]
  },
  {
   "cell_type": "code",
   "execution_count": 7,
   "outputs": [
    {
     "name": "stdout",
     "output_type": "stream",
     "text": [
      "1000/2274 commands\n",
      "2000/2274 commands\n"
     ]
    }
   ],
   "source": [
    "printcommands = np.load('objectdata/StringingPyramids.npy')  # The hollow cube is chosen for processing\n",
    "\n",
    "# See the instruction document for details of the following function's inputs\n",
    "processgcode('pyramid_ret5', printcommands, nozzletemp=[200, 220, 200], bedtemp=[65, 50], retraction=5)\n",
    "# The output file is saved as 'OUTPUT_HollowCube' in the outputgcode folder.\n",
    "# The nozzle temperature starts at 200C, increases to 220 by the middle of the print, then returns to 200C.\n",
    "# The bed temperature starts at 65C and linearly decreases to 50C.\n",
    "# The retraction length is set to a constant value of 3mm.\n",
    "# All other variables are kept as their constant defaults.\n",
    "\n",
    "# If increasing speedfactor does not increase the print speed, the maximum motor feedrates may need editing.\n",
    "# Google 'Marlin M203' for more information.\n"
   ],
   "metadata": {
    "collapsed": false,
    "ExecuteTime": {
     "end_time": "2024-01-25T13:49:47.011059900Z",
     "start_time": "2024-01-25T13:49:46.328870100Z"
    }
   },
   "id": "286d2dc6ad441992"
  }
 ],
 "metadata": {
  "kernelspec": {
   "display_name": "Python 3",
   "language": "python",
   "name": "python3"
  },
  "language_info": {
   "codemirror_mode": {
    "name": "ipython",
    "version": 2
   },
   "file_extension": ".py",
   "mimetype": "text/x-python",
   "name": "python",
   "nbconvert_exporter": "python",
   "pygments_lexer": "ipython2",
   "version": "2.7.6"
  }
 },
 "nbformat": 4,
 "nbformat_minor": 5
}
